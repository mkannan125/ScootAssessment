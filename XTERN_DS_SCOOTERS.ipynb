{
 "cells": [
  {
   "cell_type": "code",
   "execution_count": 15,
   "metadata": {},
   "outputs": [
    {
     "data": {
      "text/html": [
       "<div>\n",
       "<style scoped>\n",
       "    .dataframe tbody tr th:only-of-type {\n",
       "        vertical-align: middle;\n",
       "    }\n",
       "\n",
       "    .dataframe tbody tr th {\n",
       "        vertical-align: top;\n",
       "    }\n",
       "\n",
       "    .dataframe thead th {\n",
       "        text-align: right;\n",
       "    }\n",
       "</style>\n",
       "<table border=\"1\" class=\"dataframe\">\n",
       "  <thead>\n",
       "    <tr style=\"text-align: right;\">\n",
       "      <th></th>\n",
       "      <th>scooter_id</th>\n",
       "      <th>xcoordinate</th>\n",
       "      <th>ycoordinate</th>\n",
       "      <th>power_level</th>\n",
       "    </tr>\n",
       "  </thead>\n",
       "  <tbody>\n",
       "    <tr>\n",
       "      <th>0</th>\n",
       "      <td>0</td>\n",
       "      <td>0.906835</td>\n",
       "      <td>0.776484</td>\n",
       "      <td>0</td>\n",
       "    </tr>\n",
       "    <tr>\n",
       "      <th>1</th>\n",
       "      <td>1</td>\n",
       "      <td>0.928587</td>\n",
       "      <td>0.804964</td>\n",
       "      <td>2</td>\n",
       "    </tr>\n",
       "    <tr>\n",
       "      <th>2</th>\n",
       "      <td>2</td>\n",
       "      <td>0.904091</td>\n",
       "      <td>0.784043</td>\n",
       "      <td>1</td>\n",
       "    </tr>\n",
       "    <tr>\n",
       "      <th>3</th>\n",
       "      <td>3</td>\n",
       "      <td>0.906752</td>\n",
       "      <td>0.804461</td>\n",
       "      <td>0</td>\n",
       "    </tr>\n",
       "    <tr>\n",
       "      <th>4</th>\n",
       "      <td>4</td>\n",
       "      <td>0.900641</td>\n",
       "      <td>0.781683</td>\n",
       "      <td>4</td>\n",
       "    </tr>\n",
       "  </tbody>\n",
       "</table>\n",
       "</div>"
      ],
      "text/plain": [
       "   scooter_id  xcoordinate  ycoordinate  power_level\n",
       "0           0     0.906835     0.776484            0\n",
       "1           1     0.928587     0.804964            2\n",
       "2           2     0.904091     0.784043            1\n",
       "3           3     0.906752     0.804461            0\n",
       "4           4     0.900641     0.781683            4"
      ]
     },
     "execution_count": 15,
     "metadata": {},
     "output_type": "execute_result"
    }
   ],
   "source": [
    "import pandas as pd\n",
    "\n",
    "import matplotlib.pyplot as plt\n",
    "\n",
    "df = pd.read_csv('/Users/manishkannan/Downloads/scooter-data.csv')\n",
    "\n",
    "df.sort_values(by=\"power_level\", ascending=True)\n",
    "\n",
    "\n",
    "df.head()\n"
   ]
  },
  {
   "cell_type": "code",
   "execution_count": 17,
   "metadata": {},
   "outputs": [
    {
     "data": {
      "text/plain": [
       "<matplotlib.collections.PathCollection at 0x11f26d898>"
      ]
     },
     "execution_count": 17,
     "metadata": {},
     "output_type": "execute_result"
    },
    {
     "data": {
      "image/png": "[encoded data removed]",
      "text/plain": [
       "<Figure size 432x288 with 1 Axes>"
      ]
     },
     "metadata": {
      "needs_background": "light"
     },
     "output_type": "display_data"
    }
   ],
   "source": [
    "\n",
    "zeroes = df[df[\"power_level\"] == 0]\n",
    "plt.scatter(zeroes[\"xcoordinate\"],zeroes[\"ycoordinate\"])\n",
    "\n",
    "ones = df[df[\"power_level\"] == 1]\n",
    "plt.scatter(ones[\"xcoordinate\"],ones[\"ycoordinate\"])\n",
    "\n",
    "\n",
    "ones = df[df[\"power_level\"] == 2]\n",
    "plt.scatter(ones[\"xcoordinate\"],ones[\"ycoordinate\"])\n",
    "\n",
    "\n",
    "ones = df[df[\"power_level\"] == 3]\n",
    "plt.scatter(ones[\"xcoordinate\"],ones[\"ycoordinate\"])\n",
    "\n",
    "\n",
    "ones = df[df[\"power_level\"] == 4]\n",
    "plt.scatter(ones[\"xcoordinate\"],ones[\"ycoordinate\"])\n"
   ]
  },
  {
   "cell_type": "code",
   "execution_count": 19,
   "metadata": {},
   "outputs": [
    {
     "name": "stdout",
     "output_type": "stream",
     "text": [
      "3382.684210526316\n"
     ]
    }
   ],
   "source": [
    "#operation time cost  19 - groups\n",
    "\n",
    "def dist(i, j):\n",
    "    pt1 = df[i]\n",
    "    pt2 = df[j]\n",
    "    return sqrt((pt1[\"xcoordinate\"]-pt2[\"xcoordinate\"])*(pt1[\"xcoordinate\"]-pt2[\"xcoordinate\"]) + (pt1[\"ycoordinate\"]-pt2[\"xcoordinate\"])*(pt1[\"xcoordinate\"]-pt2[\"xcoordinate\"])\n",
    "s = 0\n",
    "group = []\n",
    "for i in range(0, len(df)):\n",
    "    group.append([])\n",
    "    for j in range(0, len(df)):\n",
    "        group[i].append(0)\n",
    "\n",
    "\n",
    "for i in range(0, len(df)):\n",
    "    for j in range(i+1, len(df)):\n",
    "        if dist(i,j) < .01:\n",
    "            group[i][j] = 1\n",
    "            group[j][i] = 1\n",
    "\n",
    "\n",
    "for i in df[\"power_level\"]:\n",
    "    s = s + (5-i)\n",
    "print(s/19)"
   ]
  }
 ],
 "metadata": {
  "kernelspec": {
   "display_name": "Python 3",
   "language": "python",
   "name": "python3"
  },
  "language_info": {
   "codemirror_mode": {
    "name": "ipython",
    "version": 3
   },
   "file_extension": ".py",
   "mimetype": "text/x-python",
   "name": "python",
   "nbconvert_exporter": "python",
   "pygments_lexer": "ipython3",
   "version": "3.7.3"
  }
 },
 "nbformat": 4,
 "nbformat_minor": 2
}
